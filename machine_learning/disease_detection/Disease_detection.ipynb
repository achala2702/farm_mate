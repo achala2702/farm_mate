{
 "cells": [
  {
   "cell_type": "code",
   "execution_count": 8,
   "id": "4246bd97-1dce-47d9-b3ce-d413e5dd35a2",
   "metadata": {},
   "outputs": [],
   "source": [
    "#importing libraries\n",
    "import tensorflow as tf\n",
    "import matplotlib.pyplot as plt\n",
    "import pandas as pd\n",
    "import seaborn as sns\n",
    "\n",
    "from tensorflow.keras.layers import Dense,Conv2D,MaxPool2D,Flatten\n",
    "from tensorflow.keras.models import Sequential"
   ]
  },
  {
   "cell_type": "code",
   "execution_count": 4,
   "id": "27d3c427-bc4e-44e9-a92a-19a56954c5a2",
   "metadata": {},
   "outputs": [
    {
     "name": "stdout",
     "output_type": "stream",
     "text": [
      "Found 70295 files belonging to 38 classes.\n"
     ]
    }
   ],
   "source": [
    "#trian image loading\n",
    "train_data = tf.keras.utils.image_dataset_from_directory(\n",
    "    'train',\n",
    "    labels=\"inferred\",\n",
    "    label_mode=\"categorical\",\n",
    "    class_names=None,\n",
    "    color_mode=\"rgb\",\n",
    "    batch_size=32,\n",
    "    image_size=(128, 128),\n",
    "    shuffle=True,\n",
    "    seed=None,\n",
    "    validation_split=None,\n",
    "    subset=None,\n",
    "    interpolation=\"bilinear\",\n",
    "    follow_links=False,\n",
    "    crop_to_aspect_ratio=False,\n",
    ")"
   ]
  },
  {
   "cell_type": "code",
   "execution_count": 5,
   "id": "9897a8f1-3ab5-41d7-ad41-082ea23e239d",
   "metadata": {},
   "outputs": [
    {
     "name": "stdout",
     "output_type": "stream",
     "text": [
      "Found 17572 files belonging to 38 classes.\n"
     ]
    }
   ],
   "source": [
    "#validation image loading\n",
    "val_data = tf.keras.utils.image_dataset_from_directory(\n",
    "    'valid',\n",
    "    labels=\"inferred\",\n",
    "    label_mode=\"categorical\",\n",
    "    class_names=None,\n",
    "    color_mode=\"rgb\",\n",
    "    batch_size=32,\n",
    "    image_size=(128, 128),\n",
    "    shuffle=True,\n",
    "    seed=None,\n",
    "    validation_split=None,\n",
    "    subset=None,\n",
    "    interpolation=\"bilinear\",\n",
    "    follow_links=False,\n",
    "    crop_to_aspect_ratio=False,\n",
    ")"
   ]
  },
  {
   "cell_type": "code",
   "execution_count": 9,
   "id": "17d08cf4-137d-40cc-8eed-1a99467c8ea1",
   "metadata": {},
   "outputs": [],
   "source": [
    "#building the model\n",
    "model = Sequential()\n",
    "\n",
    "model.add(Conv2D(filters=32,kernel_size=3,padding='same',activation='relu',input_shape=[128,128,3]))\n",
    "model.add(Conv2D(filters=32,kernel_size=3,activation='relu'))\n",
    "model.add(MaxPool2D(pool_size=2,strides=2))\n",
    "\n",
    "model.add(Conv2D(filters=64,kernel_size=3,padding='same',activation='relu'))\n",
    "model.add(Conv2D(filters=64,kernel_size=3,activation='relu'))\n",
    "model.add(MaxPool2D(pool_size=2,strides=2))\n",
    "\n",
    "model.add(Conv2D(filters=128,kernel_size=3,padding='same',activation='relu'))\n",
    "model.add(Conv2D(filters=128,kernel_size=3,activation='relu'))\n",
    "model.add(MaxPool2D(pool_size=2,strides=2))\n",
    "\n",
    "model.add(Conv2D(filters=256,kernel_size=3,padding='same',activation='relu'))\n",
    "model.add(Conv2D(filters=256,kernel_size=3,activation='relu'))\n",
    "model.add(MaxPool2D(pool_size=2,strides=2))\n",
    "\n",
    "model.add(Flatten())\n",
    "\n",
    "model.add(Dense(units=1024, activation='relu'))\n",
    "\n",
    "model.add(Dense(units=38, activation='softmax'))"
   ]
  },
  {
   "cell_type": "code",
   "execution_count": 14,
   "id": "2549a8c8-7eb8-4577-8b7d-846cbc6de7ad",
   "metadata": {},
   "outputs": [],
   "source": [
    "#compiling the model\n",
    "model.compile(optimizer='adam', loss='categorical_crossentropy', metrics=['accuracy'])"
   ]
  },
  {
   "cell_type": "code",
   "execution_count": 15,
   "id": "ebee3c8c-fea5-41e8-a529-92afb27484f2",
   "metadata": {},
   "outputs": [
    {
     "name": "stdout",
     "output_type": "stream",
     "text": [
      "Model: \"sequential\"\n",
      "_________________________________________________________________\n",
      " Layer (type)                Output Shape              Param #   \n",
      "=================================================================\n",
      " conv2d (Conv2D)             (None, 128, 128, 32)      896       \n",
      "                                                                 \n",
      " conv2d_1 (Conv2D)           (None, 128, 128, 32)      9248      \n",
      "                                                                 \n",
      " max_pooling2d (MaxPooling2D  (None, 64, 64, 32)       0         \n",
      " )                                                               \n",
      "                                                                 \n",
      " conv2d_2 (Conv2D)           (None, 64, 64, 64)        18496     \n",
      "                                                                 \n",
      " conv2d_3 (Conv2D)           (None, 64, 64, 64)        36928     \n",
      "                                                                 \n",
      " max_pooling2d_1 (MaxPooling  (None, 32, 32, 64)       0         \n",
      " 2D)                                                             \n",
      "                                                                 \n",
      " conv2d_4 (Conv2D)           (None, 32, 32, 128)       73856     \n",
      "                                                                 \n",
      " conv2d_5 (Conv2D)           (None, 32, 32, 128)       147584    \n",
      "                                                                 \n",
      " max_pooling2d_2 (MaxPooling  (None, 16, 16, 128)      0         \n",
      " 2D)                                                             \n",
      "                                                                 \n",
      " conv2d_6 (Conv2D)           (None, 16, 16, 256)       295168    \n",
      "                                                                 \n",
      " conv2d_7 (Conv2D)           (None, 16, 16, 256)       590080    \n",
      "                                                                 \n",
      " max_pooling2d_3 (MaxPooling  (None, 8, 8, 256)        0         \n",
      " 2D)                                                             \n",
      "                                                                 \n",
      " flatten (Flatten)           (None, 16384)             0         \n",
      "                                                                 \n",
      " dense (Dense)               (None, 1024)              16778240  \n",
      "                                                                 \n",
      " dense_1 (Dense)             (None, 38)                38950     \n",
      "                                                                 \n",
      "=================================================================\n",
      "Total params: 17,989,446\n",
      "Trainable params: 17,989,446\n",
      "Non-trainable params: 0\n",
      "_________________________________________________________________\n"
     ]
    }
   ],
   "source": [
    "#summery of the model\n",
    "model.summary()"
   ]
  },
  {
   "cell_type": "code",
   "execution_count": 16,
   "id": "27ad0b4a-5056-43ed-8c56-d8571f0d6182",
   "metadata": {},
   "outputs": [
    {
     "name": "stdout",
     "output_type": "stream",
     "text": [
      "Epoch 1/10\n",
      "2197/2197 [==============================] - 1216s 513ms/step - loss: 1.1146 - accuracy: 0.6705 - val_loss: 0.4950 - val_accuracy: 0.8408\n",
      "Epoch 2/10\n",
      "2197/2197 [==============================] - 818s 371ms/step - loss: 0.3712 - accuracy: 0.8782 - val_loss: 0.3571 - val_accuracy: 0.8853\n",
      "Epoch 3/10\n",
      "2197/2197 [==============================] - 806s 366ms/step - loss: 0.2593 - accuracy: 0.9147 - val_loss: 0.3116 - val_accuracy: 0.9028\n",
      "Epoch 4/10\n",
      "2197/2197 [==============================] - 817s 371ms/step - loss: 0.1985 - accuracy: 0.9339 - val_loss: 0.3544 - val_accuracy: 0.8910\n",
      "Epoch 5/10\n",
      "2197/2197 [==============================] - 817s 371ms/step - loss: 0.1615 - accuracy: 0.9464 - val_loss: 0.3943 - val_accuracy: 0.8960\n",
      "Epoch 6/10\n",
      "2197/2197 [==============================] - 818s 371ms/step - loss: 0.1450 - accuracy: 0.9526 - val_loss: 0.3377 - val_accuracy: 0.9025\n",
      "Epoch 7/10\n",
      "2197/2197 [==============================] - 815s 370ms/step - loss: 0.1341 - accuracy: 0.9557 - val_loss: 0.4559 - val_accuracy: 0.8856\n",
      "Epoch 8/10\n",
      "2197/2197 [==============================] - 810s 367ms/step - loss: 0.1163 - accuracy: 0.9630 - val_loss: 0.3070 - val_accuracy: 0.9236\n",
      "Epoch 9/10\n",
      "2197/2197 [==============================] - 802s 364ms/step - loss: 0.1139 - accuracy: 0.9626 - val_loss: 0.3625 - val_accuracy: 0.9109\n",
      "Epoch 10/10\n",
      "2197/2197 [==============================] - 784s 356ms/step - loss: 0.1124 - accuracy: 0.9642 - val_loss: 0.3469 - val_accuracy: 0.9145\n"
     ]
    }
   ],
   "source": [
    "#training the model\n",
    "training_history = model.fit(x=train_data, validation_data=val_data, epochs=10)"
   ]
  },
  {
   "cell_type": "code",
   "execution_count": 17,
   "id": "1dfff469-e501-4f4d-97ea-4e161aa5d18d",
   "metadata": {},
   "outputs": [
    {
     "name": "stdout",
     "output_type": "stream",
     "text": [
      "2197/2197 [==============================] - 643s 292ms/step - loss: 0.0689 - accuracy: 0.9769\n",
      "Training accuracy: 0.9768973588943481\n"
     ]
    }
   ],
   "source": [
    "#Training accuracy\n",
    "train_loss, train_acc = model.evaluate(train_data)\n",
    "print('Training accuracy:', train_acc)"
   ]
  },
  {
   "cell_type": "code",
   "execution_count": 18,
   "id": "f0064257-adf5-4560-a5fe-2f6417696115",
   "metadata": {},
   "outputs": [
    {
     "name": "stdout",
     "output_type": "stream",
     "text": [
      "550/550 [==============================] - 144s 257ms/step - loss: 0.3469 - accuracy: 0.9145\n",
      "Validation accuracy: 0.9145231246948242\n"
     ]
    }
   ],
   "source": [
    "#Validation accuracy\n",
    "val_loss, val_acc = model.evaluate(val_data)\n",
    "print('Validation accuracy:', val_acc)"
   ]
  },
  {
   "cell_type": "code",
   "execution_count": 19,
   "id": "e7db518c-1a8b-4c74-8173-4d4a8000557f",
   "metadata": {},
   "outputs": [
    {
     "data": {
      "image/png": "[encoded data removed]",
      "text/plain": [
       "<Figure size 640x480 with 1 Axes>"
      ]
     },
     "metadata": {},
     "output_type": "display_data"
    }
   ],
   "source": [
    "epochs = [i for i in range(1,11)]\n",
    "plt.plot(epochs,training_history.history['accuracy'],color='red',label='Training Accuracy')\n",
    "plt.plot(epochs,training_history.history['val_accuracy'],color='blue',label='Validation Accuracy')\n",
    "plt.xlabel('No. of Epochs')\n",
    "plt.title('Visualization of Accuracy Result')\n",
    "plt.legend()\n",
    "plt.show()"
   ]
  },
  {
   "cell_type": "code",
   "execution_count": 20,
   "id": "463f4770-8a73-4919-b90d-70aae10f0cc9",
   "metadata": {},
   "outputs": [],
   "source": [
    "#saving the model\n",
    "model.save('plant_disease_detection_model.keras')"
   ]
  }
 ],
 "metadata": {
  "kernelspec": {
   "display_name": "Python (farm_mate_env)",
   "language": "python",
   "name": "farm_mate_env"
  },
  "language_info": {
   "codemirror_mode": {
    "name": "ipython",
    "version": 3
   },
   "file_extension": ".py",
   "mimetype": "text/x-python",
   "name": "python",
   "nbconvert_exporter": "python",
   "pygments_lexer": "ipython3",
   "version": "3.10.16"
  }
 },
 "nbformat": 4,
 "nbformat_minor": 5
}
