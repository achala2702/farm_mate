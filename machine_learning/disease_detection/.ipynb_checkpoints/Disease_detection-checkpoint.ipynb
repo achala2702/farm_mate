{
 "cells": [
  {
   "cell_type": "code",
   "execution_count": null,
   "id": "e6ccedf5-3dbf-4679-af08-1451543ea66d",
   "metadata": {},
   "outputs": [],
   "source": [
    "# dataset link\n",
    "#https://www.kaggle.com/datasets/vipoooool/new-plant-diseases-dataset?resource=download"
   ]
  },
  {
   "cell_type": "code",
   "execution_count": 1,
   "id": "4246bd97-1dce-47d9-b3ce-d413e5dd35a2",
   "metadata": {},
   "outputs": [],
   "source": [
    "#importing libraries\n",
    "import tensorflow as tf\n",
    "import matplotlib.pyplot as plt\n",
    "import pandas as pd\n",
    "import seaborn as sns\n",
    "\n",
    "from tensorflow.keras.layers import Dense,Conv2D,MaxPooling2D,Flatten, Dropout, Rescaling, BatchNormalization\n",
    "from tensorflow.keras.models import Sequential\n",
    "from tensorflow.keras.preprocessing.image import ImageDataGenerator"
   ]
  },
  {
   "cell_type": "code",
   "execution_count": 2,
   "id": "27d3c427-bc4e-44e9-a92a-19a56954c5a2",
   "metadata": {},
   "outputs": [
    {
     "name": "stdout",
     "output_type": "stream",
     "text": [
      "Found 70295 files belonging to 38 classes.\n"
     ]
    }
   ],
   "source": [
    "#trian image loading #224\n",
    "train_data = tf.keras.utils.image_dataset_from_directory(\n",
    "    'train',\n",
    "    labels=\"inferred\",\n",
    "    label_mode=\"categorical\",\n",
    "    class_names=None,\n",
    "    color_mode=\"rgb\",\n",
    "    batch_size=32,\n",
    "    image_size=(128,128),\n",
    "    shuffle=True,\n",
    "    seed=None,\n",
    "    validation_split=None,\n",
    "    subset=None,\n",
    "    interpolation=\"bilinear\",\n",
    "    follow_links=False,\n",
    "    crop_to_aspect_ratio=False,\n",
    ")"
   ]
  },
  {
   "cell_type": "code",
   "execution_count": 3,
   "id": "9897a8f1-3ab5-41d7-ad41-082ea23e239d",
   "metadata": {},
   "outputs": [
    {
     "name": "stdout",
     "output_type": "stream",
     "text": [
      "Found 17572 files belonging to 38 classes.\n"
     ]
    }
   ],
   "source": [
    "#validation image loading\n",
    "val_data = tf.keras.utils.image_dataset_from_directory(\n",
    "    'valid',\n",
    "    labels=\"inferred\",\n",
    "    label_mode=\"categorical\",\n",
    "    class_names=None,\n",
    "    color_mode=\"rgb\",\n",
    "    batch_size=32,\n",
    "    image_size=(128,128),\n",
    "    shuffle=True,\n",
    "    seed=None,\n",
    "    validation_split=None,\n",
    "    subset=None,\n",
    "    interpolation=\"bilinear\",\n",
    "    follow_links=False,\n",
    "    crop_to_aspect_ratio=False,\n",
    ")"
   ]
  },
  {
   "cell_type": "code",
   "execution_count": 4,
   "id": "63c80466-c31e-43d8-a442-be1c1ba89c95",
   "metadata": {},
   "outputs": [],
   "source": [
    "# Define Rescaling Layer\n",
    "rescale_layer = Rescaling(1./255)\n",
    "\n",
    "# Apply Rescaling During Training\n",
    "train_data = train_data.map(lambda x, y: (rescale_layer(x), y))\n",
    "val_data = val_data.map(lambda x, y: (rescale_layer(x), y))"
   ]
  },
  {
   "cell_type": "code",
   "execution_count": 5,
   "id": "17d08cf4-137d-40cc-8eed-1a99467c8ea1",
   "metadata": {},
   "outputs": [],
   "source": [
    "#building the model\n",
    "model = Sequential()\n",
    "\n",
    "# Add Rescaling Layer as the first layer\n",
    "model.add(Rescaling(1./255, input_shape=(128, 128, 3)))\n",
    "\n",
    "# Convolutional Block 1\n",
    "model.add(Conv2D(filters=32,kernel_size=3,padding='same',activation='relu'))\n",
    "model.add(Conv2D(filters=32,kernel_size=3,activation='relu'))\n",
    "model.add(MaxPooling2D(pool_size=2,strides=2))\n",
    "\n",
    "# Convolutional Block 2\n",
    "model.add(Conv2D(filters=64,kernel_size=3,padding='same',activation='relu'))\n",
    "model.add(Conv2D(filters=64,kernel_size=3,activation='relu'))\n",
    "model.add(MaxPooling2D(pool_size=2,strides=2))\n",
    "\n",
    "# Convolutional Block 3\n",
    "model.add(Conv2D(filters=128,kernel_size=3,padding='same',activation='relu'))\n",
    "model.add(Conv2D(filters=128,kernel_size=3,activation='relu'))\n",
    "model.add(MaxPooling2D(pool_size=2,strides=2))\n",
    "\n",
    "# Convolutional Block 4\n",
    "model.add(Conv2D(filters=256,kernel_size=3,padding='same',activation='relu'))\n",
    "model.add(Conv2D(filters=256,kernel_size=3,activation='relu'))\n",
    "model.add(MaxPooling2D(pool_size=2,strides=2))\n",
    "\n",
    "model.add(Dropout(0.25))\n",
    "\n",
    "# Fully Connected Layers\n",
    "model.add(Flatten())\n",
    "model.add(Dense(units=512, activation='relu'))\n",
    "model.add(Dropout(0.4))\n",
    "\n",
    "# Output Layer\n",
    "model.add(Dense(units=38, activation='softmax')) "
   ]
  },
  {
   "cell_type": "code",
   "execution_count": 6,
   "id": "2549a8c8-7eb8-4577-8b7d-846cbc6de7ad",
   "metadata": {},
   "outputs": [],
   "source": [
    "#compiling the model\n",
    "model.compile(optimizer='adam', loss='categorical_crossentropy', metrics=['accuracy'])"
   ]
  },
  {
   "cell_type": "code",
   "execution_count": 7,
   "id": "ebee3c8c-fea5-41e8-a529-92afb27484f2",
   "metadata": {},
   "outputs": [
    {
     "name": "stdout",
     "output_type": "stream",
     "text": [
      "Model: \"sequential\"\n",
      "_________________________________________________________________\n",
      " Layer (type)                Output Shape              Param #   \n",
      "=================================================================\n",
      " conv2d (Conv2D)             (None, 128, 128, 32)      896       \n",
      "                                                                 \n",
      " conv2d_1 (Conv2D)           (None, 126, 126, 32)      9248      \n",
      "                                                                 \n",
      " max_pooling2d (MaxPooling2D  (None, 63, 63, 32)       0         \n",
      " )                                                               \n",
      "                                                                 \n",
      " conv2d_2 (Conv2D)           (None, 63, 63, 64)        18496     \n",
      "                                                                 \n",
      " conv2d_3 (Conv2D)           (None, 61, 61, 64)        36928     \n",
      "                                                                 \n",
      " max_pooling2d_1 (MaxPooling  (None, 30, 30, 64)       0         \n",
      " 2D)                                                             \n",
      "                                                                 \n",
      " conv2d_4 (Conv2D)           (None, 30, 30, 128)       73856     \n",
      "                                                                 \n",
      " conv2d_5 (Conv2D)           (None, 28, 28, 128)       147584    \n",
      "                                                                 \n",
      " max_pooling2d_2 (MaxPooling  (None, 14, 14, 128)      0         \n",
      " 2D)                                                             \n",
      "                                                                 \n",
      " conv2d_6 (Conv2D)           (None, 14, 14, 256)       295168    \n",
      "                                                                 \n",
      " conv2d_7 (Conv2D)           (None, 12, 12, 256)       590080    \n",
      "                                                                 \n",
      " max_pooling2d_3 (MaxPooling  (None, 6, 6, 256)        0         \n",
      " 2D)                                                             \n",
      "                                                                 \n",
      " dropout (Dropout)           (None, 6, 6, 256)         0         \n",
      "                                                                 \n",
      " flatten (Flatten)           (None, 9216)              0         \n",
      "                                                                 \n",
      " dense (Dense)               (None, 512)               4719104   \n",
      "                                                                 \n",
      " dropout_1 (Dropout)         (None, 512)               0         \n",
      "                                                                 \n",
      " dense_1 (Dense)             (None, 38)                19494     \n",
      "                                                                 \n",
      "=================================================================\n",
      "Total params: 5,910,854\n",
      "Trainable params: 5,910,854\n",
      "Non-trainable params: 0\n",
      "_________________________________________________________________\n"
     ]
    }
   ],
   "source": [
    "#summery of the model\n",
    "model.summary()"
   ]
  },
  {
   "cell_type": "code",
   "execution_count": null,
   "id": "27ad0b4a-5056-43ed-8c56-d8571f0d6182",
   "metadata": {},
   "outputs": [],
   "source": [
    "#training the model\n",
    "training_history = model.fit(x=train_data, validation_data=val_data, epochs=10, verbose=1)"
   ]
  },
  {
   "cell_type": "code",
   "execution_count": null,
   "id": "36f00ad2-ff67-4a98-b262-9afb2558f00d",
   "metadata": {},
   "outputs": [],
   "source": [
    "train_data2 = tf.keras.utils.image_dataset_from_directory(\n",
    "    'train',\n",
    "    labels=\"inferred\",\n",
    "    label_mode=\"categorical\",\n",
    "    class_names=None,\n",
    "    color_mode=\"rgb\",\n",
    "    batch_size=32,\n",
    "    image_size=(128, 128),\n",
    "    shuffle=True,\n",
    "    seed=None,\n",
    "    validation_split=None,\n",
    "    subset=None,\n",
    "    interpolation=\"bilinear\",\n",
    "    follow_links=False,\n",
    "    crop_to_aspect_ratio=False,\n",
    ")"
   ]
  },
  {
   "cell_type": "code",
   "execution_count": null,
   "id": "1dfff469-e501-4f4d-97ea-4e161aa5d18d",
   "metadata": {},
   "outputs": [],
   "source": [
    "#Training accuracy\n",
    "train_loss, train_acc = model.evaluate(train_data2)\n",
    "print('Training accuracy:', train_acc)"
   ]
  },
  {
   "cell_type": "code",
   "execution_count": null,
   "id": "055c6695-b20e-447a-af44-0480d7d290d1",
   "metadata": {},
   "outputs": [],
   "source": [
    "val_data2 = tf.keras.utils.image_dataset_from_directory(\n",
    "    'valid',\n",
    "    labels=\"inferred\",\n",
    "    label_mode=\"categorical\",\n",
    "    class_names=None,\n",
    "    color_mode=\"rgb\",\n",
    "    batch_size=32,\n",
    "    image_size=(128, 128),\n",
    "    shuffle=True,\n",
    "    seed=None,\n",
    "    validation_split=None,\n",
    "    subset=None,\n",
    "    interpolation=\"bilinear\",\n",
    "    follow_links=False,\n",
    "    crop_to_aspect_ratio=False,\n",
    ")"
   ]
  },
  {
   "cell_type": "code",
   "execution_count": null,
   "id": "f0064257-adf5-4560-a5fe-2f6417696115",
   "metadata": {},
   "outputs": [],
   "source": [
    "#Validation accuracy\n",
    "val_loss, val_acc = model.evaluate(val_data2)\n",
    "print('Validation accuracy:', val_acc)"
   ]
  },
  {
   "cell_type": "code",
   "execution_count": null,
   "id": "461e3912-876f-4941-bfb0-799b2592b7f2",
   "metadata": {},
   "outputs": [],
   "source": [
    "# Plotting training and validation loss\n",
    "plt.figure(figsize=(12, 6))\n",
    "\n",
    "# Loss plot\n",
    "plt.subplot(1, 2, 1)\n",
    "plt.plot(training_history.history['loss'], label='Training Loss')\n",
    "plt.plot(training_history.history['val_loss'], label='Validation Loss')\n",
    "plt.title('Training and Validation Loss')\n",
    "plt.xlabel('Epochs')\n",
    "plt.ylabel('Loss')\n",
    "plt.legend()\n",
    "\n",
    "# Accuracy plot\n",
    "plt.subplot(1, 2, 2)\n",
    "plt.plot(training_history.history['accuracy'], label='Training Accuracy')\n",
    "plt.plot(training_history.history['val_accuracy'], label='Validation Accuracy')\n",
    "plt.title('Training and Validation Accuracy')\n",
    "plt.xlabel('Epochs')\n",
    "plt.ylabel('Accuracy')\n",
    "plt.legend()\n",
    "\n",
    "plt.show()"
   ]
  },
  {
   "cell_type": "code",
   "execution_count": null,
   "id": "ba60b0b4-e9cf-4104-b7e6-3bb9dc198d4d",
   "metadata": {},
   "outputs": [],
   "source": [
    "testing_set = tf.keras.utils.image_dataset_from_directory(\n",
    "    'valid',\n",
    "    labels=\"inferred\",\n",
    "    label_mode=\"categorical\",\n",
    "    class_names=None,\n",
    "    color_mode=\"rgb\",\n",
    "    batch_size=32,\n",
    "    image_size=(128, 128),\n",
    "    shuffle=False,\n",
    "    seed=None,\n",
    "    validation_split=None,\n",
    "    subset=None,\n",
    "    interpolation=\"bilinear\",\n",
    "    follow_links=False,\n",
    "    crop_to_aspect_ratio=False\n",
    ")\n",
    "class_names = testing_set.class_names\n",
    "print(class_names)"
   ]
  },
  {
   "cell_type": "code",
   "execution_count": null,
   "id": "8386309d-4412-472a-af2e-bb59664a1f36",
   "metadata": {},
   "outputs": [],
   "source": [
    "prediction = model.predict(testing_set)\n",
    "predicted_categories = tf.argmax(prediction, axis=1)"
   ]
  },
  {
   "cell_type": "code",
   "execution_count": null,
   "id": "c2e01337-850a-42a8-8a22-5433cae5026e",
   "metadata": {},
   "outputs": [],
   "source": [
    "true_cat = tf.concat([y for x, y in testing_set], axis=0)\n",
    "true_categories = tf.argmax(true_cat, axis=1)"
   ]
  },
  {
   "cell_type": "code",
   "execution_count": null,
   "id": "42f355f9-3d2a-4979-aba9-b4fd5cfdd0d5",
   "metadata": {},
   "outputs": [],
   "source": [
    "true_categories.numpy()"
   ]
  },
  {
   "cell_type": "code",
   "execution_count": null,
   "id": "24278eed-9ea9-4f22-a022-909458c0c167",
   "metadata": {},
   "outputs": [],
   "source": [
    "predicted_categories.numpy()"
   ]
  },
  {
   "cell_type": "code",
   "execution_count": null,
   "id": "c57821c9-7aaf-4363-9c42-718c29056f99",
   "metadata": {},
   "outputs": [],
   "source": [
    "accuracy = tf.reduce_mean(tf.cast(tf.equal(true_categories, predicted_categories), tf.float32))\n",
    "print(f'Accuracy: {accuracy.numpy() * 100}%')"
   ]
  },
  {
   "cell_type": "code",
   "execution_count": null,
   "id": "915c3077-1763-4e16-b2ef-edc214e43d04",
   "metadata": {},
   "outputs": [],
   "source": [
    "from sklearn.metrics import confusion_matrix,classification_report\n",
    "cm = confusion_matrix(true_categories,predicted_categories)"
   ]
  },
  {
   "cell_type": "code",
   "execution_count": null,
   "id": "4c6ea027-5d39-4824-9800-a4ac0e8c34af",
   "metadata": {},
   "outputs": [],
   "source": [
    "# Precision, Recall, & Fscore\n",
    "print(classification_report(true_categories,predicted_categories,target_names=class_names))"
   ]
  },
  {
   "cell_type": "code",
   "execution_count": null,
   "id": "3a28eb42-60b4-42ce-b76b-4340383700cf",
   "metadata": {},
   "outputs": [],
   "source": [
    "plt.figure(figsize=(40, 40))\n",
    "sns.heatmap(cm,annot=True,annot_kws={\"size\": 10})\n",
    "\n",
    "plt.xlabel('Predicted Class',fontsize = 20)\n",
    "plt.ylabel('Actual Class',fontsize = 20)\n",
    "plt.title('Plant Disease Prediction Confusion Matrix',fontsize = 25)\n",
    "plt.show()"
   ]
  },
  {
   "cell_type": "code",
   "execution_count": null,
   "id": "85115492-1ace-46d8-9a9c-fb7f497c698a",
   "metadata": {},
   "outputs": [],
   "source": []
  },
  {
   "cell_type": "code",
   "execution_count": null,
   "id": "463f4770-8a73-4919-b90d-70aae10f0cc9",
   "metadata": {},
   "outputs": [],
   "source": [
    "#saving the model\n",
    "# model.save('plant_disease_detection_model.keras')"
   ]
  },
  {
   "cell_type": "code",
   "execution_count": null,
   "id": "0cca4104-515f-4330-a1b3-9908a9127f7b",
   "metadata": {},
   "outputs": [],
   "source": []
  },
  {
   "cell_type": "code",
   "execution_count": null,
   "id": "5ff70077-160f-4531-9ebd-aa2f43a04bc3",
   "metadata": {},
   "outputs": [],
   "source": [
    "#libraries for model to run\n",
    "import tensorflow as tf\n",
    "import matplotlib.pyplot as plt\n",
    "import numpy as np\n",
    "import cv2"
   ]
  },
  {
   "cell_type": "code",
   "execution_count": null,
   "id": "838f73e8-e042-498f-8309-4602dc726625",
   "metadata": {},
   "outputs": [],
   "source": [
    "# # Save class names to a text file\n",
    "# with open('class_names.txt', 'w') as file:\n",
    "#     for class_name in testing_set.class_names:\n",
    "#         file.write(f\"{class_name}\\n\")"
   ]
  },
  {
   "cell_type": "code",
   "execution_count": null,
   "id": "019f5dd3-e28e-4ce3-9ab8-7d1d0dc6a978",
   "metadata": {},
   "outputs": [],
   "source": [
    "#loading the model\n",
    "cnn_model = tf.keras.models.load_model('plant_disease_detection_model.keras')"
   ]
  },
  {
   "cell_type": "code",
   "execution_count": null,
   "id": "302497c6-2f96-451e-a870-4bf123974477",
   "metadata": {},
   "outputs": [],
   "source": [
    "# Load class names from the file\n",
    "with open('class_names.txt', 'r') as file:\n",
    "    loaded_class_names = [line.strip() for line in file]\n",
    "\n",
    "print(loaded_class_names)"
   ]
  },
  {
   "cell_type": "code",
   "execution_count": null,
   "id": "f2b62f67-0b55-4da4-bd65-5952a1170fab",
   "metadata": {},
   "outputs": [],
   "source": [
    "#Test Image Visualization\n",
    "image_path = 'test/PotatoHealthy2.JPG'\n",
    "# Reading an image in default mode\n",
    "img = cv2.imread(image_path)\n",
    "img = cv2.cvtColor(img,cv2.COLOR_BGR2RGB) #Converting BGR to RGB\n",
    "# Displaying the image \n",
    "plt.imshow(img)\n",
    "plt.title('Test Image')\n",
    "plt.xticks([])\n",
    "plt.yticks([])\n",
    "plt.show()"
   ]
  },
  {
   "cell_type": "code",
   "execution_count": null,
   "id": "b46f83c3-b36f-42c3-9afe-10965507a2f1",
   "metadata": {},
   "outputs": [],
   "source": [
    "image = tf.keras.preprocessing.image.load_img(image_path,target_size=(128,128))\n",
    "input_arr = tf.keras.preprocessing.image.img_to_array(image)\n",
    "input_arr = np.array([input_arr])  # Convert single image to a batch.\n",
    "predictions = cnn_model.predict(input_arr)"
   ]
  },
  {
   "cell_type": "code",
   "execution_count": null,
   "id": "f961f537-2511-4113-a839-3e7d683c16e9",
   "metadata": {},
   "outputs": [],
   "source": [
    "print(predictions)"
   ]
  },
  {
   "cell_type": "code",
   "execution_count": null,
   "id": "bb857123-efb0-42ee-badc-0e876304fb21",
   "metadata": {},
   "outputs": [],
   "source": [
    "result_index = np.argmax(predictions) #Return index of max element\n",
    "print(result_index)"
   ]
  },
  {
   "cell_type": "code",
   "execution_count": null,
   "id": "bf318d9c-f395-46ab-9bd8-a22e22746aa3",
   "metadata": {},
   "outputs": [],
   "source": [
    "# Displaying the disease prediction\n",
    "model_prediction = loaded_class_names[result_index]\n",
    "plt.imshow(img)\n",
    "plt.title(f\"Disease Name: {model_prediction}\")\n",
    "plt.xticks([])\n",
    "plt.yticks([])\n",
    "plt.show()"
   ]
  }
 ],
 "metadata": {
  "kernelspec": {
   "display_name": "Python (farm_mate_env)",
   "language": "python",
   "name": "farm_mate_env"
  },
  "language_info": {
   "codemirror_mode": {
    "name": "ipython",
    "version": 3
   },
   "file_extension": ".py",
   "mimetype": "text/x-python",
   "name": "python",
   "nbconvert_exporter": "python",
   "pygments_lexer": "ipython3",
   "version": "3.10.16"
  }
 },
 "nbformat": 4,
 "nbformat_minor": 5
}
